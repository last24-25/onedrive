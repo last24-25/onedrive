{
 "cells": [
  {
   "cell_type": "code",
   "execution_count": null,
   "id": "4ff0f51e",
   "metadata": {},
   "outputs": [],
   "source": [
    "import cv2\n",
    "import numpy as np\n",
    "import matplotlib.pyplot as plt\n",
    "\n",
    "img = cv2.imread(r\"C:\\Users\\Govejith G\\Pictures\\Screenshots\\Screenshot (114).png\", cv2.IMREAD_COLOR)\n",
    "\n",
    "\n",
    "if img is None:\n",
    "    print(\"Error: Image not found. Check the file path.\")\n",
    "else:\n",
    "    gray_img = cv2.cvtColor(img, cv2.COLOR_BGR2GRAY)\n",
    "\n",
    "\n",
    "    f_transform = np.fft.fft2(gray_img) \n",
    "    f_transform_shifted = np.fft.fftshift(f_transform)\n",
    "\n",
    "\n",
    "    magnitude_spectrum = np.log1p(np.abs(f_transform_shifted))  # log1p = log(1 + x)\n",
    "\n",
    "    f_inverse_shifted = np.fft.ifftshift(f_transform_shifted) \n",
    "    img_reconstructed = np.fft.ifft2(f_inverse_shifted)\n",
    "    img_reconstructed = np.abs(img_reconstructed)\n",
    "    img_reconstructed = np.uint8(np.clip(img_reconstructed, 0, 255))\n",
    "\n",
    "    plt.figure(figsize=(10, 5))\n",
    "    plt.subplot(2, 2, 1)\n",
    "    plt.imshow(cv2.cvtColor(img, cv2.COLOR_BGR2RGB))\n",
    "    plt.title(\"Original Image\")\n",
    "    plt.axis(\"off\")\n",
    "\n",
    "    plt.subplot(2, 2, 2)\n",
    "    plt.imshow(gray_img, cmap=\"gray\")\n",
    "    plt.title(\"Grayscale Image\")\n",
    "    plt.axis(\"off\")\n",
    "\n",
    "    plt.subplot(2, 2, 3)\n",
    "    plt.imshow(magnitude_spectrum, cmap=\"gray\")\n",
    "    plt.title(\"Magnitude Spectrum\")\n",
    "    plt.axis(\"off\")\n",
    "\n",
    "    plt.subplot(2, 2, 4)\n",
    "    plt.imshow(img_reconstructed, cmap=\"gray\")\n",
    "    plt.title(\"Reconstructed Image\")\n",
    "    plt.axis(\"off\")\n",
    "\n",
    "    plt.tight_layout()\n",
    "    plt.show()\n"
   ]
  }
 ],
 "metadata": {
  "kernelspec": {
   "display_name": "base",
   "language": "python",
   "name": "python3"
  },
  "language_info": {
   "codemirror_mode": {
    "name": "ipython",
    "version": 3
   },
   "file_extension": ".py",
   "mimetype": "text/x-python",
   "name": "python",
   "nbconvert_exporter": "python",
   "pygments_lexer": "ipython3",
   "version": "3.12.5"
  }
 },
 "nbformat": 4,
 "nbformat_minor": 5
}
