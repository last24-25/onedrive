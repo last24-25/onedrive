{
  "nbformat": 4,
  "nbformat_minor": 0,
  "metadata": {
    "colab": {
      "provenance": []
    },
    "kernelspec": {
      "name": "python3",
      "display_name": "Python 3"
    },
    "language_info": {
      "name": "python"
    }
  },
  "cells": [
    {
      "cell_type": "code",
      "execution_count": null,
      "metadata": {
        "id": "mUGXo-se4dJM"
      },
      "outputs": [],
      "source": [
        "from keras.layers import Input, Conv2D, BatchNormalization, Activation, Add, AveragePooling2D, Flatten, Dense\n",
        "from keras.models import Model\n",
        "import visualkeras\n",
        "\n",
        "input_shape = (32, 32, 3)\n",
        "inputs = Input(shape=input_shape)\n",
        "\n",
        "x = Conv2D(64, kernel_size=7, strides=2, padding='same')(inputs)\n",
        "x = BatchNormalization()(x)\n",
        "x = Activation('relu')(x)\n",
        "\n",
        "y = Conv2D(64, kernel_size=3, padding='same')(x)\n",
        "y = BatchNormalization()(y)\n",
        "y = Activation('relu')(y)\n",
        "y = Conv2D(64, kernel_size=3, padding='same')(y)\n",
        "y = BatchNormalization()(y)\n",
        "x = Add()([x, y])  # Skip connection\n",
        "x = Activation('relu')(x)\n",
        "\n",
        "y = Conv2D(64, kernel_size=3, padding='same')(x)\n",
        "y = BatchNormalization()(y)\n",
        "y = Activation('relu')(y)\n",
        "y = Conv2D(64, kernel_size=3, padding='same')(y)\n",
        "y = BatchNormalization()(y)\n",
        "x = Add()([x, y])  # Skip connection\n",
        "x = Activation('relu')(x)\n",
        "\n",
        "x = AveragePooling2D(pool_size=8)(x)\n",
        "x = Flatten()(x)\n",
        "outputs = Dense(10, activation='softmax')(x)  # 10 output classes\n",
        "\n",
        "model = Model(inputs=inputs, outputs=outputs)\n",
        "\n",
        "model.summary()\n",
        "\n",
        "visualkeras.layered_view(model, legend=True, to_file='simplified_resnet.png')\n"
      ]
    }
  ]
}