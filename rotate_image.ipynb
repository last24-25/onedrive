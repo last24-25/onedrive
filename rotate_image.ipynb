{
 "cells": [
  {
   "cell_type": "code",
   "execution_count": null,
   "id": "e0c892a2",
   "metadata": {},
   "outputs": [],
   "source": [
    "import cv2\n",
    "import matplotlib.pyplot as plt"
   ]
  },
  {
   "cell_type": "code",
   "execution_count": null,
   "id": "1f10c212",
   "metadata": {},
   "outputs": [],
   "source": [
    "def display_image_with_heading (heading, img):\n",
    "    plt.imshow(cv2.cvtColor(img, cv2.COLOR_BGR2RGB))\n",
    "    plt.title(heading)\n",
    "    plt.axis('off')\n",
    "    plt.show()\n",
    "\n",
    "image_path = r\"x.jpg\"\n",
    "img = cv2.imread(image_path)\n",
    "clockwise = True\n",
    "\n",
    "if clockwise:\n",
    "    rotated_img = cv2.rotate(img, cv2.ROTATE_90_CLOCKWISE)\n",
    "else:\n",
    "    rotated_img = cv2.rotate(img, cv2.ROTATE_90_COUNTERCLOCKWISE)\n",
    "\n",
    "display_image_with_heading (\"Original Image\", img)\n",
    "display_image_with_heading (\"Rotated Image\", rotated_img)"
   ]
  }
 ],
 "metadata": {
  "kernelspec": {
   "display_name": "Python 3",
   "language": "python",
   "name": "python3"
  },
  "language_info": {
   "codemirror_mode": {
    "name": "ipython",
    "version": 3
   },
   "file_extension": ".py",
   "mimetype": "text/x-python",
   "name": "python",
   "nbconvert_exporter": "python",
   "pygments_lexer": "ipython3",
   "version": "3.11.9"
  }
 },
 "nbformat": 4,
 "nbformat_minor": 5
}
