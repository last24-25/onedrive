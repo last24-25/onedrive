{
  "nbformat": 4,
  "nbformat_minor": 0,
  "metadata": {
    "colab": {
      "provenance": []
    },
    "kernelspec": {
      "name": "python3",
      "display_name": "Python 3"
    },
    "language_info": {
      "name": "python"
    }
  },
  "cells": [
    {
      "cell_type": "code",
      "source": [
        "!pip install visualkeras"
      ],
      "metadata": {
        "id": "Gnx_Ct3EBbjg"
      },
      "execution_count": null,
      "outputs": []
    },
    {
      "cell_type": "code",
      "execution_count": null,
      "metadata": {
        "id": "mUGXo-se4dJM"
      },
      "outputs": [],
      "source": [
        "import tensorflow as tf\n",
        "import visualkeras\n",
        "\n",
        "model = tf.keras.models.Sequential([\n",
        "    tf.keras.layers.InputLayer(input_shape=(227, 227, 3)),\n",
        "    tf.keras.layers.Conv2D(96, kernel_size=11, strides=4, activation='relu'),\n",
        "    tf.keras.layers.MaxPooling2D(pool_size=3, strides=2),\n",
        "\n",
        "    tf.keras.layers.Conv2D(256, kernel_size=5, padding='same', activation='relu'),\n",
        "    tf.keras.layers.MaxPooling2D(pool_size=3, strides=2),\n",
        "\n",
        "    tf.keras.layers.Conv2D(384, kernel_size=3, padding='same', activation='relu'),\n",
        "    tf.keras.layers.Conv2D(384, kernel_size=3, padding='same', activation='relu'),\n",
        "    tf.keras.layers.Conv2D(256, kernel_size=3, padding='same', activation='relu'),\n",
        "    tf.keras.layers.MaxPooling2D(pool_size=3, strides=2),\n",
        "\n",
        "    tf.keras.layers.Flatten(),\n",
        "    tf.keras.layers.Dense(4096, activation='relu'),\n",
        "    tf.keras.layers.Dropout(0.5),\n",
        "    tf.keras.layers.Dense(4096, activation='relu'),\n",
        "    tf.keras.layers.Dropout(0.5),\n",
        "    tf.keras.layers.Dense(10, activation='softmax')\n",
        "])\n",
        "\n",
        "model.summary()\n",
        "\n",
        "visualkeras.layered_view(model, legend=True, scale_xy=14)\n"
      ]
    }
  ]
}