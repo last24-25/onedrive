{
  "cells": [
    {
      "cell_type": "markdown",
      "metadata": {
        "id": "1wniTddI4z66"
      },
      "source": [
        "# Program to perform image smoothening and sharpening using Spatial filters."
      ]
    },
    {
      "cell_type": "code",
      "execution_count": null,
      "metadata": {
        "id": "3uDxkzPF4JOg"
      },
      "outputs": [],
      "source": [
        "import cv2\n",
        "import numpy as np\n",
        "import matplotlib.pyplot as plt\n",
        "\n",
        "image = cv2.imread('sample.jpg')\n",
        "image = cv2.cvtColor(image, cv2.COLOR_BGR2RGB)\n",
        "\n",
        "median_blur = cv2.medianBlur(image, 5)\n",
        "gaussian_blur = cv2.GaussianBlur(image, (5, 5), 0)\n",
        "sharpen_kernel = np.array([[ 0, -1, 0],[-1, 5, -1],[0, -1, 0]])\n",
        "sharpened = cv2.filter2D(image, -1, sharpen_kernel)\n",
        "\n",
        "titles = ['Original Image', 'Median Filter', 'Gaussian Blur', 'Sharpened']\n",
        "images = [image, median_blur, gaussian_blur, sharpened]"
      ]
    },
    {
      "cell_type": "code",
      "execution_count": null,
      "metadata": {
        "colab": {
          "base_uri": "https://localhost:8080/",
          "height": 807
        },
        "id": "3L9OI6bi5GZx",
        "outputId": "8917294f-58a6-40c3-fb2c-34e59fb2198c"
      },
      "outputs": [],
      "source": [
        "plt.figure(figsize=(12, 8))\n",
        "\n",
        "for i in range(4):\n",
        "  plt.subplot(2, 2, i+1)\n",
        "  plt.imshow(images[i])\n",
        "  plt.title(titles[i])\n",
        "  plt.axis(\"off\")\n",
        "\n",
        "plt.tight_layout()\n",
        "plt.show()"
      ]
    }
  ],
  "metadata": {
    "colab": {
      "provenance": []
    },
    "kernelspec": {
      "display_name": "Python 3",
      "name": "python3"
    },
    "language_info": {
      "name": "python"
    }
  },
  "nbformat": 4,
  "nbformat_minor": 0
}
