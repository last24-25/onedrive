{
  "nbformat": 4,
  "nbformat_minor": 0,
  "metadata": {
    "colab": {
      "provenance": []
    },
    "kernelspec": {
      "name": "python3",
      "display_name": "Python 3"
    },
    "language_info": {
      "name": "python"
    }
  },
  "cells": [
    {
      "cell_type": "code",
      "execution_count": null,
      "metadata": {
        "id": "O-hZ1Tzoz9wk"
      },
      "outputs": [],
      "source": [
        "import cv2\n",
        "import matplotlib.pyplot as plt\n",
        "\n",
        "# Load and convert image to RGB\n",
        "image = cv2.imread('/content/Orginal.jpg')\n",
        "image = cv2.cvtColor(image, cv2.COLOR_BGR2RGB)\n",
        "\n",
        "# Apply filters\n",
        "gaussian_filtered = cv2.GaussianBlur(image, (31, 31), 15) # Changed kernel size to be odd\n",
        "median_filtered = cv2.medianBlur(image, 31)\n",
        "bilateral_filtered = cv2.bilateralFilter(image, d=30, sigmaColor=200, sigmaSpace=200)\n",
        "\n",
        "# Set up titles and images\n",
        "titles = ['Original Image', 'Gaussian Blur', 'Median Filter', 'Bilateral Filter']\n",
        "images = [image, gaussian_filtered, median_filtered, bilateral_filtered]\n",
        "\n",
        "# Plot the results\n",
        "plt.figure(figsize=(15, 10))\n",
        "for i in range(4):\n",
        "    plt.subplot(2, 2, i + 1)\n",
        "    plt.imshow(images[i])\n",
        "    plt.title(titles[i])\n",
        "    plt.axis('off')\n",
        "\n",
        "plt.tight_layout()\n",
        "plt.show()"
      ]
    }
  ]
}