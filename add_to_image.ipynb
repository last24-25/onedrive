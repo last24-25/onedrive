{
  "cells": [
    {
      "cell_type": "code",
      "execution_count": null,
      "metadata": {
        "id": "O-hZ1Tzoz9wk"
      },
      "outputs": [],
      "source": [
        "import cv2\n",
        "import matplotlib.pyplot as plt\n",
        "\n",
        "image_path1 = r\"y.jpg\"\n",
        "image_path2 = r\"x.jpg\"\n",
        "\n",
        "img1 = cv2.imread(image_path1)\n",
        "img2 = cv2.imread(image_path2)\n",
        "\n",
        "img1 = cv2.resize(img1, (250, 250))\n",
        "img2 = cv2.resize(img2, (250, 250))\n",
        "\n",
        "added_img = cv2.add(img1, img2)\n",
        "\n",
        "plt.figure(figsize=(9, 5))\n",
        "\n",
        "plt.subplot(1, 3, 1)\n",
        "plt.imshow(cv2.cvtColor(img1, cv2.COLOR_BGR2RGB))\n",
        "plt.title('Image 1')\n",
        "plt.axis('off')\n",
        "\n",
        "plt.subplot(1, 3, 2)\n",
        "plt.imshow(cv2.cvtColor(img2, cv2.COLOR_BGR2RGB))\n",
        "plt.title('Image 2')\n",
        "plt.axis('off')\n",
        "\n",
        "plt.subplot(1, 3, 3)\n",
        "plt.imshow(cv2.cvtColor(added_img, cv2.COLOR_BGR2RGB))\n",
        "plt.title('Added Image')\n",
        "plt.axis('off')\n",
        "\n",
        "plt.show()\n"
      ]
    },
    {
      "cell_type": "code",
      "execution_count": null,
      "metadata": {},
      "outputs": [],
      "source": []
    }
  ],
  "metadata": {
    "colab": {
      "provenance": []
    },
    "kernelspec": {
      "display_name": "Python 3",
      "name": "python3"
    },
    "language_info": {
      "codemirror_mode": {
        "name": "ipython",
        "version": 3
      },
      "file_extension": ".py",
      "mimetype": "text/x-python",
      "name": "python",
      "nbconvert_exporter": "python",
      "pygments_lexer": "ipython3",
      "version": "3.11.9"
    }
  },
  "nbformat": 4,
  "nbformat_minor": 0
}
