{
  "cells": [
    {
      "cell_type": "markdown",
      "metadata": {
        "id": "eCrrqpU7zvn3"
      },
      "source": [
        "# 3 Program to display the size of an image and resize the image."
      ]
    },
    {
      "cell_type": "code",
      "execution_count": null,
      "metadata": {
        "colab": {
          "base_uri": "https://localhost:8080/"
        },
        "id": "QJiu7SExzium",
        "outputId": "f2974886-447a-43a8-ca9c-57645b2fdb40"
      },
      "outputs": [],
      "source": [
        "import cv2\n",
        "import matplotlib.pyplot as plt\n",
        "\n",
        "image_path = r\"xyz.jpg\"\n",
        "\n",
        "img = cv2.imread(image_path)\n",
        "\n",
        "height, width, channels = img.shape\n",
        "\n",
        "print(f\"Original Image Size -> Width: {width}, Height: {height}\")"
      ]
    },
    {
      "cell_type": "code",
      "execution_count": null,
      "metadata": {
        "id": "HGVljOGXz7Iq"
      },
      "outputs": [],
      "source": [
        "resized_img = cv2.resize(img, (158, 200))\n",
        "\n",
        "resized_height, resized_width, resized_channels = resized_img.shape"
      ]
    },
    {
      "cell_type": "code",
      "execution_count": null,
      "metadata": {
        "colab": {
          "base_uri": "https://localhost:8080/",
          "height": 706
        },
        "id": "0V46u1umz3vm",
        "outputId": "54b58160-291d-40b4-e635-6453113f187c"
      },
      "outputs": [],
      "source": [
        "def display_image_with_heading(heading, img):\n",
        "  print(heading)\n",
        "  plt.imshow(cv2.cvtColor(img, cv2.COLOR_BGR2RGB))\n",
        "  plt.title(heading)\n",
        "  plt.axis('off')\n",
        "  plt.show()\n",
        "\n",
        "\n",
        "print(f\"Resized Image Size -> Width: {resized_width}, Height: {resized_height}\")\n",
        "display_image_with_heading(\"Original Image\", img)\n",
        "display_image_with_heading(\"Resized Image\", resized_img)"
      ]
    }
  ],
  "metadata": {
    "colab": {
      "provenance": []
    },
    "kernelspec": {
      "display_name": "Python 3",
      "name": "python3"
    },
    "language_info": {
      "codemirror_mode": {
        "name": "ipython",
        "version": 3
      },
      "file_extension": ".py",
      "mimetype": "text/x-python",
      "name": "python",
      "nbconvert_exporter": "python",
      "pygments_lexer": "ipython3",
      "version": "3.11.9"
    }
  },
  "nbformat": 4,
  "nbformat_minor": 0
}
