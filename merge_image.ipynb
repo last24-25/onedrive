{
 "cells": [
  {
   "cell_type": "code",
   "execution_count": 1,
   "id": "67559a7e",
   "metadata": {},
   "outputs": [],
   "source": [
    "import cv2\n",
    "import matplotlib.pyplot as plt"
   ]
  },
  {
   "cell_type": "code",
   "execution_count": null,
   "id": "87836bad",
   "metadata": {},
   "outputs": [],
   "source": [
    "image_path1 = r\"x.jpg\"\n",
    "image_path2 = r\"y.jpg\"\n",
    "\n",
    "img1 = cv2.imread(image_path1)\n",
    "img2 = cv2.imread(image_path2)\n",
    "img1 = cv2.resize(img1, (300, 300))\n",
    "img2 = cv2.resize(img2, (300, 300))\n",
    "merged_img = cv2.addWeighted(img1, 0.5, img2, 0.5, 0)\n",
    "cv2.imwrite(\"/content/merged_image.jpeg\", merged_img)\n",
    "blue, green, red = cv2.split(merged_img)\n",
    "\n",
    "plt.figure (figsize=(13, 8))\n",
    "plt.subplot(3, 2, 1)\n",
    "plt.imshow(cv2.cvtColor(img1, cv2.COLOR_BGR2RGB))\n",
    "plt.title('Image 1')\n",
    "plt.axis('off')\n",
    "plt.subplot(3, 2, 2)\n",
    "plt.imshow(cv2.cvtColor(img2, cv2.COLOR_BGR2RGB))\n",
    "plt.title('Image 2')\n",
    "plt.axis('off')\n",
    "plt.subplot(3, 2, 3)\n",
    "plt.imshow(cv2.cvtColor (merged_img, cv2.COLOR_BGR2RGB))\n",
    "plt.title('Merged Image')\n",
    "plt.axis('off')\n",
    "plt.show()"
   ]
  }
 ],
 "metadata": {
  "kernelspec": {
   "display_name": "Python 3",
   "language": "python",
   "name": "python3"
  },
  "language_info": {
   "codemirror_mode": {
    "name": "ipython",
    "version": 3
   },
   "file_extension": ".py",
   "mimetype": "text/x-python",
   "name": "python",
   "nbconvert_exporter": "python",
   "pygments_lexer": "ipython3",
   "version": "3.11.9"
  }
 },
 "nbformat": 4,
 "nbformat_minor": 5
}
