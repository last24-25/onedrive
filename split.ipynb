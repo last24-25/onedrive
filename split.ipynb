{
 "cells": [
  {
   "cell_type": "code",
   "execution_count": null,
   "id": "4ff0f51e",
   "metadata": {},
   "outputs": [],
   "source": [
    "import cv2\n",
    "import matplotlib.pyplot as plt"
   ]
  },
  {
   "cell_type": "code",
   "execution_count": null,
   "id": "8bd7526b",
   "metadata": {},
   "outputs": [],
   "source": [
    "merged_img = cv2.imread(r\"C:\\Users\\PC\\OneDrive\\Pictures\\zoro.jpg\")\n",
    "blue, green, red = cv2.split (merged_img)\n",
    "\n",
    "plt.figure(figsize=(13, 8))\n",
    "\n",
    "plt.subplot(3, 2, 4)\n",
    "plt.imshow(blue, cmap='gray')\n",
    "plt.title('Blue Component')\n",
    "plt.axis('off')\n",
    "\n",
    "plt.subplot(3, 2, 5)\n",
    "plt.imshow(green, cmap='gray')\n",
    "plt.title('Green Component')\n",
    "plt.axis('off')\n",
    "\n",
    "plt.subplot(3, 2, 6)\n",
    "plt.imshow(red, cmap='gray')\n",
    "plt.title('Red Component')\n",
    "plt.axis('off')\n",
    "\n",
    "plt.show()"
   ]
  }
 ],
 "metadata": {
  "kernelspec": {
   "display_name": "Python 3",
   "language": "python",
   "name": "python3"
  },
  "language_info": {
   "codemirror_mode": {
    "name": "ipython",
    "version": 3
   },
   "file_extension": ".py",
   "mimetype": "text/x-python",
   "name": "python",
   "nbconvert_exporter": "python",
   "pygments_lexer": "ipython3",
   "version": "3.11.9"
  }
 },
 "nbformat": 4,
 "nbformat_minor": 5
}
