{
  "nbformat": 4,
  "nbformat_minor": 0,
  "metadata": {
    "colab": {
      "provenance": []
    },
    "kernelspec": {
      "name": "python3",
      "display_name": "Python 3"
    },
    "language_info": {
      "name": "python"
    }
  },
  "cells": [
    {
      "cell_type": "code",
      "execution_count": null,
      "metadata": {
        "id": "O-hZ1Tzoz9wk"
      },
      "outputs": [],
      "source": [
        "import cv2\n",
        "import numpy as np\n",
        "import matplotlib.pyplot as plt\n",
        "\n",
        "img = cv2.imread('/content/Orginal.jpg')\n",
        "img_rgb = cv2.cvtColor(img, cv2.COLOR_BGR2RGB)\n",
        "\n",
        "gamma_values = [0.1, 0.5, 1.2, 2.2]\n",
        "\n",
        "plt.figure(figsize=(15, 5))\n",
        "\n",
        "plt.subplot(1, len(gamma_values) + 1, 1)\n",
        "plt.imshow(img_rgb)\n",
        "plt.title('Original Image')\n",
        "plt.axis('off')\n",
        "\n",
        "for i, gamma in enumerate(gamma_values):\n",
        "    gamma_corrected = np.array(255 * ((img / 255) ** gamma), dtype='uint8')\n",
        "    gamma_corrected_rgb = cv2.cvtColor(gamma_corrected, cv2.COLOR_BGR2RGB)\n",
        "\n",
        "    plt.subplot(1, len(gamma_values) + 1, i + 2)\n",
        "    plt.imshow(gamma_corrected_rgb)\n",
        "    plt.title(f'Gamma {gamma}')\n",
        "    plt.axis('off')\n",
        "\n",
        "plt.show()\n"
      ]
    }
  ]
}