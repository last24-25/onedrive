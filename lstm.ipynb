{
  "nbformat": 4,
  "nbformat_minor": 0,
  "metadata": {
    "colab": {
      "provenance": []
    },
    "kernelspec": {
      "name": "python3",
      "display_name": "Python 3"
    },
    "language_info": {
      "name": "python"
    }
  },
  "cells": [
    {
      "cell_type": "code",
      "execution_count": null,
      "metadata": {
        "id": "mUGXo-se4dJM"
      },
      "outputs": [],
      "source": [
        "from tensorflow.keras.layers import Embedding, LSTM, Dense\n",
        "from tensorflow.keras.datasets import imdb\n",
        "from tensorflow.keras.models import Sequential\n",
        "from tensorflow.keras.preprocessing import sequence\n",
        "from tensorflow.keras.optimizers import Adam\n",
        "import numpy as np\n",
        "\n",
        "# Load IMDB dataset\n",
        "vocab_size = 5000\n",
        "(x_train, y_train), (x_test, y_test) = imdb.load_data(num_words=vocab_size)\n",
        "\n",
        "# Preprocess data\n",
        "max_words = 400\n",
        "x_train = sequence.pad_sequences(x_train, maxlen=max_words)\n",
        "x_test = sequence.pad_sequences(x_test, maxlen=max_words)\n",
        "\n",
        "# Define LSTM model\n",
        "lstm_model = Sequential(name=\"LSTM_Model\")\n",
        "lstm_model.add(Embedding(input_dim=vocab_size, output_dim=32, input_length=max_words))\n",
        "lstm_model.add(LSTM(units=128, activation='tanh', return_sequences=False))\n",
        "lstm_model.add(Dense(units=1, activation='sigmoid'))\n",
        "\n",
        "# Compile model\n",
        "optimizer = Adam(learning_rate=0.001)\n",
        "lstm_model.compile(loss='binary_crossentropy', optimizer=optimizer, metrics=['accuracy'])\n",
        "\n",
        "# Train model\n",
        "lstm_model.fit(x_train, y_train, batch_size=64, epochs=3, validation_split=0.2)\n",
        "\n",
        "# Evaluate model\n",
        "loss, accuracy = lstm_model.evaluate(x_test, y_test, verbose=0)\n",
        "print(\"Test Loss:\", loss)\n",
        "print(\"Test Accuracy:\", accuracy)\n",
        "\n",
        "# Decode IMDB reviews\n",
        "word_index = imdb.get_word_index()\n",
        "reverse_word_index = {value: key for key, value in word_index.items()}\n",
        "\n",
        "# Predict sentiment for 3 test reviews\n",
        "predictions = lstm_model.predict(x_test)\n",
        "\n",
        "for i in range(3):\n",
        "    review_text = ' '.join([reverse_word_index.get(index - 3, '[UNK]') for index in x_test[i] if index >= 3])\n",
        "    sentiment_score = predictions[i][0]\n",
        "    sentiment = \"Positive\" if sentiment_score > 0.5 else \"Negative\"\n",
        "\n",
        "    print(f\"\\nReview {i+1}: {review_text}\")\n",
        "    print(f\"Predicted Sentiment: {sentiment} (Confidence: {sentiment_score:.2f})\")\n"
      ]
    }
  ]
}