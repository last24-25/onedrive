{
  "cells": [
    {
      "cell_type": "code",
      "execution_count": null,
      "metadata": {
        "id": "O-hZ1Tzoz9wk"
      },
      "outputs": [],
      "source": [
        "import cv2\n",
        "import numpy as np\n",
        "import matplotlib.pyplot as plt\n",
        "img_path=r\"x.jpg\"\n",
        "img=cv2.imread(img_path)\n",
        "img_arrray=np.array(img)\n",
        "\n",
        "plt.figure(figsize=(10,10))\n",
        "plt.imshow(cv2.cvtColor(img,cv2.COLOR_BGR2RGB))\n",
        "plt.title(\"Original Image\")\n",
        "plt.show()\n",
        "\n",
        "print(\"Array of numbers (pixel values):\")\n",
        "print(img_arrray)\n",
        "\n",
        "print(\"Grayscale converted image:\")\n",
        "gray_img=cv2.cvtColor(img,cv2.COLOR_BGR2GRAY)\n",
        "plt.figure(figsize=(10,10))\n",
        "plt.imshow(gray_img, cmap='gray')\n",
        "plt.title(\"GrayScaled Image\")\n",
        "plt.show()"
      ]
    }
  ],
  "metadata": {
    "colab": {
      "provenance": []
    },
    "kernelspec": {
      "display_name": "Python 3",
      "name": "python3"
    },
    "language_info": {
      "codemirror_mode": {
        "name": "ipython",
        "version": 3
      },
      "file_extension": ".py",
      "mimetype": "text/x-python",
      "name": "python",
      "nbconvert_exporter": "python",
      "pygments_lexer": "ipython3",
      "version": "3.11.9"
    }
  },
  "nbformat": 4,
  "nbformat_minor": 0
}
