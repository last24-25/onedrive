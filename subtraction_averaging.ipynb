{
  "cells": [
    {
      "cell_type": "markdown",
      "metadata": {
        "id": "9nKQFkEM2q5z"
      },
      "source": [
        "# Program to perform image subtraction and image averaging"
      ]
    },
    {
      "cell_type": "code",
      "execution_count": null,
      "metadata": {
        "id": "0gZ3QlXy1tjG"
      },
      "outputs": [],
      "source": [
        "import cv2\n",
        "import matplotlib.pyplot as plt\n",
        "\n",
        "image_path1 = \"sample.jpg\"\n",
        "image_path2 = \"sample.jfif\"\n",
        "\n",
        "imgl = cv2.imread(image_path1)\n",
        "img2 = cv2.imread(image_path2)\n",
        "imgl = cv2.resize(imgl, (250, 250))\n",
        "img2 = cv2.resize(img2, (250, 250))\n",
        "\n",
        "sub_img = cv2.subtract(imgl, img2)\n",
        "avg_img = cv2.addWeighted(imgl, 0.5, img2, 0.5, 0)"
      ]
    },
    {
      "cell_type": "code",
      "execution_count": null,
      "metadata": {
        "colab": {
          "base_uri": "https://localhost:8080/",
          "height": 521
        },
        "id": "w-7VhA-62J-l",
        "outputId": "2aa6bfc6-f91d-4d3e-a548-3d22fe3179da"
      },
      "outputs": [],
      "source": [
        "plt.figure(figsize=(12, 6))\n",
        "\n",
        "plt.subplot(2, 2, 1)\n",
        "plt.imshow(cv2.cvtColor(imgl, cv2.COLOR_BGR2RGB))\n",
        "plt.title(\"Image 1\")\n",
        "\n",
        "plt.axis(\"off\")\n",
        "\n",
        "plt.subplot(2, 2, 2)\n",
        "plt.imshow(cv2.cvtColor(img2, cv2.COLOR_BGR2RGB))\n",
        "plt.title(\"Image 2\")\n",
        "\n",
        "plt.axis(\"off\")\n",
        "\n",
        "plt.subplot(2, 2, 3)\n",
        "plt.imshow(cv2.cvtColor(sub_img, cv2.COLOR_BGR2RGB))\n",
        "plt.title(\"Subtracted Image\")\n",
        "\n",
        "plt.axis(\"off\")\n",
        "\n",
        "plt.subplot(2, 2, 4)\n",
        "plt.imshow(cv2.cvtColor(avg_img, cv2.COLOR_BGR2RGB))\n",
        "plt.title(\"Averaged Image\")\n",
        "\n",
        "plt.axis(\"off\")\n",
        "\n",
        "plt.show()"
      ]
    }
  ],
  "metadata": {
    "colab": {
      "provenance": []
    },
    "kernelspec": {
      "display_name": "Python 3",
      "name": "python3"
    },
    "language_info": {
      "name": "python"
    }
  },
  "nbformat": 4,
  "nbformat_minor": 0
}
